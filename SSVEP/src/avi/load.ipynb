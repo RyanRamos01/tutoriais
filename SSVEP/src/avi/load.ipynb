{
 "cells": [
  {
   "cell_type": "markdown",
   "metadata": {},
   "source": [
    "# Load\n",
    "\n",
    "## Tarefas\n",
    "\n",
    "* Padronizar os dados de todos os 4 participantes dos dados single-target e salvar de forma adequada para utilização nos próximos notebooks.\n",
    "* Realizar o mesmo estudo para os dados multi-target."
   ]
  },
  {
   "cell_type": "code",
   "execution_count": 49,
   "metadata": {},
   "outputs": [],
   "source": [
    "# imports\n",
    "\n",
    "from scipy.io import loadmat\n",
    "import numpy as np"
   ]
  },
  {
   "cell_type": "markdown",
   "metadata": {},
   "source": [
    "## Single Target"
   ]
  },
  {
   "cell_type": "code",
   "execution_count": 50,
   "metadata": {},
   "outputs": [],
   "source": [
    "# pré-carregamento\n",
    "\n",
    "avi_data = list()\n",
    "for i in range(1,5):\n",
    "    avi_data.append(loadmat(f\"../../datasets/avi/single/Sub{i}_singletarget.mat\"))"
   ]
  },
  {
   "cell_type": "code",
   "execution_count": 51,
   "metadata": {},
   "outputs": [
    {
     "name": "stdout",
     "output_type": "stream",
     "text": [
      "Divisão dos dados:\n",
      "(15360, 27)\n",
      "(15360, 26)\n",
      "(15360, 21)\n",
      "(15360, 21)\n",
      "\n",
      "Divisão dos rótulos (sequências):\n",
      "[[10.  10.  10.  12.  12.  12.   6.5  6.5  6.5  6.   6.   6.   6.   6.\n",
      "   6.   7.5  7.5  7.5  7.   7.   7.   8.2  8.2  8.2  9.3  9.3  9.3]]\n",
      "[[10.  10.  10.   6.5  6.5  6.5  6.5  6.   6.   6.   7.5  7.5  7.5  7.\n",
      "   7.   7.   7.   7.   7.   8.2  8.2  8.2  8.2  9.3  9.3  9.3]]\n",
      "[[10.  10.  10.   6.5  6.5  6.5  6.   6.   6.   7.5  7.5  7.5  7.   7.\n",
      "   7.   8.2  8.2  8.2  9.3  9.3  9.3]]\n",
      "[[10.  10.  10.   6.5  6.5  6.5  6.   6.   6.   7.5  7.5  7.5  7.   7.\n",
      "   7.   8.2  8.2  8.2  9.3  9.3  9.3]]\n"
     ]
    }
   ],
   "source": [
    "# extração direta dos dados\n",
    "\n",
    "X = [d['Data'][0][0][0] for d in avi_data]\n",
    "y = [d['Data'][0][0][1] for d in avi_data]\n",
    "\n",
    "print(\"Divisão dos dados:\")\n",
    "for data in X:\n",
    "    print(data.shape)\n",
    "\n",
    "print(\"\\nDivisão dos rótulos (sequências):\")\n",
    "for label in y:\n",
    "    print(label)"
   ]
  },
  {
   "cell_type": "code",
   "execution_count": 52,
   "metadata": {},
   "outputs": [
    {
     "data": {
      "text/plain": [
       "((4, 15360, 21), (4, 1, 21))"
      ]
     },
     "execution_count": 52,
     "metadata": {},
     "output_type": "execute_result"
    }
   ],
   "source": [
    "# todos com 21 eletrodos\n",
    "\n",
    "\n",
    "\n",
    "# padronizando 1º participante\n",
    "data = [\n",
    "  X[0][:, list(set(range(27)) - set([3, 4, 5, 12, 13, 14]))],\n",
    "  X[1][:, list(set(range(26)) - set([6, 16, 17, 18, 22]))],\n",
    "  X[2],\n",
    "  X[3],\n",
    "]\n",
    "\n",
    "labels = [\n",
    "  y[0][:, list(set(range(27)) - set([3, 4, 5, 12, 13, 14]))],\n",
    "  y[1][:, list(set(range(26)) - set([6, 16, 17, 18, 22]))],\n",
    "  y[2],\n",
    "  y[3]\n",
    "]\n",
    "\n",
    "data = np.array(data)\n",
    "labels = np.array(labels)\n",
    "\n",
    "\n",
    "data.shape, labels.shape\n",
    "\n"
   ]
  },
  {
   "cell_type": "code",
   "execution_count": 53,
   "metadata": {},
   "outputs": [],
   "source": [
    "# salva os dados numpy\n",
    "np.save(\"../../datasets/avi/single/data.npy\", data)\n",
    "np.save(\"../../datasets/avi/single/labels.npy\", labels)"
   ]
  },
  {
   "cell_type": "markdown",
   "metadata": {},
   "source": [
    "## Mult Target"
   ]
  },
  {
   "cell_type": "code",
   "execution_count": 54,
   "metadata": {},
   "outputs": [],
   "source": [
    "avi_data_multi = list()\n",
    "\n",
    "for i in range(1,6):\n",
    "    avi_data_multi.append(list())\n",
    "    for j in range(1,3):\n",
    "        avi_data_multi[i-1].append(loadmat(f\"../../datasets/avi/multi/Sub{i}_{j}_multitarget.mat\"))"
   ]
  },
  {
   "cell_type": "code",
   "execution_count": 55,
   "metadata": {},
   "outputs": [
    {
     "name": "stdout",
     "output_type": "stream",
     "text": [
      "(5, 2, 10, 8192)\n",
      "(5, 2, 10)\n",
      "(5, 20, 8192)\n",
      "(5, 20)\n"
     ]
    }
   ],
   "source": [
    "# extração direta dos dados\n",
    "\n",
    "X, y = list(), list()\n",
    "for participant in avi_data_multi:\n",
    "    X.append(list())\n",
    "    y.append(list())\n",
    "    for trial in participant:\n",
    "        #transposto\n",
    "        X[-1].append(trial['Data'][0][0]['EEG'].T)\n",
    "        y[-1].append(trial['Data'][0][0]['TargetFrequency'].T.flatten())\n",
    "\n",
    "\n",
    "data = np.array(X)\n",
    "print(data.shape)\n",
    "\n",
    "label = np.array(y)\n",
    "print(label.shape)\n",
    "\n",
    "data = data.reshape(data.shape[0], data.shape[1]*data.shape[2], data.shape[3])\n",
    "print(data.shape)\n",
    "\n",
    "label = label.reshape(label.shape[0],label.shape[1]*label.shape[2])\n",
    "print(label.shape)"
   ]
  },
  {
   "cell_type": "code",
   "execution_count": 56,
   "metadata": {},
   "outputs": [],
   "source": [
    "np.save(\"../../datasets/avi/multi/data.npy\", data)\n",
    "np.save(\"../../datasets/avi/multi/labels.npy\", label)"
   ]
  }
 ],
 "metadata": {
  "kernelspec": {
   "display_name": "Python 3",
   "language": "python",
   "name": "python3"
  },
  "language_info": {
   "codemirror_mode": {
    "name": "ipython",
    "version": 3
   },
   "file_extension": ".py",
   "mimetype": "text/x-python",
   "name": "python",
   "nbconvert_exporter": "python",
   "pygments_lexer": "ipython3",
   "version": "3.11.3"
  },
  "orig_nbformat": 4
 },
 "nbformat": 4,
 "nbformat_minor": 2
}
