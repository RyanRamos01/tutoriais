{
  "nbformat": 4,
  "nbformat_minor": 0,
  "metadata": {
    "colab": {
      "provenance": []
    },
    "kernelspec": {
      "name": "python3",
      "display_name": "Python 3"
    },
    "language_info": {
      "name": "python"
    }
  },
  "cells": [
    {
      "cell_type": "markdown",
      "source": [],
      "metadata": {
        "id": "40RhZ17Cbi1-"
      }
    },
    {
      "cell_type": "markdown",
      "source": [
        "# Resumos de Artigos sobre SSVEP-BCI\n",
        "\n",
        "---\n",
        "\n",
        "## Artigo 1: A dataset of EEG signals from a single-channel SSVEP-based brain computer interface\n",
        "\n",
        "### **Objetivo Principal:**\n",
        "- Apresentação de uma base de dados de eletroencefalografia (EEG) utilizando o paradigma SSVEP.\n",
        "\n",
        "### **Metodologia de Coleta de Dados:**\n",
        "- Estímulos visuais repetitivos em quatro frequências intermitentes.\n",
        "- Uso de um único eletródo seco, diferenciando-se das pesquisas convencionais que utilizam vários eletródos com gel condutor.\n",
        "\n",
        "### **Ponto de Destaque:**\n",
        "- Incentivo à criação de capacetes para EEG de baixo custo com uso de apenas um eletródo.\n",
        "\n",
        "### **Descrição dos Dados:**\n",
        "- Dados brutos de EEG usando paradigma SSVEP.\n",
        "- Coleta realizada com 11 voluntários.\n",
        "- Registro individual inclui estímulo por luz intermitente de 16 segundos em quatro frequências:\n",
        "  - 8,57Hz (F1)\n",
        "  - 10Hz (F2)\n",
        "  - 12Hz (F3)\n",
        "  - 15Hz (F4).\n",
        "\n",
        "---\n",
        "\n",
        "## Artigo 2: BETA: A Large Benchmark Database Toward SSVEP-BCI Application\n",
        "\n",
        "### **Objetivo Principal:**\n",
        "- Apresentar a base de dados desenvolvida através da captura utilizando o paradigma SSVEP.\n",
        "\n",
        "### **Justificativa:**\n",
        "- Existência limitada de bases de dados públicas usando o paradigma SSVEP.\n",
        "\n",
        "### **Metodologia de Coleta de Dados:**\n",
        "- Experimento visual com teclado virtual exibido em monitor de 27 polegadas.\n",
        "- Cada tecla emite uma frequência e possui uma fase de modulação.\n",
        "\n",
        "### **Descrição dos Dados:**\n",
        "- 70 voluntários saudáveis participaram (incluindo crianças).\n",
        "- Dados obtidos usando 64 eletródos.\n"
      ],
      "metadata": {
        "id": "Ul6AiM-xb5L8"
      }
    }
  ]
}
