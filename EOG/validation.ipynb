{
 "cells": [
  {
   "cell_type": "markdown",
   "metadata": {},
   "source": [
    "## Validação dos dados EOG\n",
    "\n",
    "Neste notebook está incluído os seguintes passos:\n",
    "- Aplicação de características;\n",
    "- Criação do vetor de características;\n",
    "- Normalização de dados;\n",
    "- Seleção de características;\n",
    "- Classificação dos dados."
   ]
  },
  {
   "cell_type": "markdown",
   "metadata": {},
   "source": [
    "Uma característica é uma propriedade individual mensurável ou característica de um fenômeno que está sendo observado. Em nosso caso de EOG, uma característica pode ser extraída no domínio do tempo ou no domínio da frequência. As características a seguir foram retiradas do artigo *EMG Feature Extraction for Tolerance of White Gaussian Noise* \\[1\\]."
   ]
  },
  {
   "cell_type": "markdown",
   "metadata": {},
   "source": [
    "#### Domínio do tempo\n",
    "\n",
    "1. Willison Amplitude (WAMP)\n",
    "\n",
    "    > $ \\sum_{i=1}^{N-1}f(|x_i - x_{i+1}|) $\n",
    "    \n",
    "    > $ f(x) = \\begin{cases} 1 & \\text{if } x \\gt threshold \\\\ 0 & \\text{otherwise} \\end{cases} $\n",
    "\n",
    "2. Variance of EMG (VAR)\n",
    "\n",
    "    > $ \\frac{1}{N-1}\\sum_{i=1}^{N}x_i^2 $\n",
    "\n",
    "3. Root Mean Square (RMS)\n",
    "\n",
    "    > $ \\sqrt{\\frac{1}{N}\\sum_{i=1}^{N}|x_i|^2} $\n",
    "\n",
    "4. Waveform Length (WL)\n",
    "    \n",
    "    > $ \\sum_{i=1}^{N-1}|x_{i+1} - x_i| $\n",
    "\n",
    "5. Zero Crossing (ZC)\n",
    "\n",
    "    > $ \\sum_{i=1}^{N}sgn(x_i) $\n",
    "    \n",
    "    > $ sgn(x) = \\begin{cases} 1 & \\text{if } x_i * x_{i+1} \\leq 0 \\\\ 0 & \\text{otherwise} \\end{cases} $"
   ]
  },
  {
   "cell_type": "markdown",
   "metadata": {},
   "source": [
    "#### Domínio da frequência\n",
    "\n",
    "1. Median Frequency (FMD)\n",
    "\n",
    "    > $ \\frac{1}{2}\\sum_{j=1}^{M}PSD_j $\n",
    "\n",
    "2. Mean Frequency (FMN)\n",
    "\n",
    "    > $\\sum_{j=1}^{M}f_j PSD_j / \\sum_{j=1}^{M}PSD_j$\n",
    "    \n",
    "    > $ f_j = j * SampleRate / 2 * M $\n",
    "\n",
    "3. Modified Median Frequency (MMDF)\n",
    "\n",
    "    > $ \\frac{1}{2}\\sum_{j=1}^{M}A_j $\n",
    "    \n",
    "    > $ A_j = Amplitude\\ do\\ espectro\\ j $\n",
    "\n",
    "4. Modified Frequency Mean (MMNF)\n",
    "\n",
    "    > $ \\sum_{j=1}^{M}f_jAj / \\sum_{j=1}^{M}Aj $\n",
    "\n",
    "\n",
    "\\[1\\] Phinyomark, Angkoon & Limsakul, Chusak & Phukpattaranont, P.. (2008). EMG Feature Extraction for Tolerance of White Gaussian Noise.\n",
    "[Disponível neste link](https://www.researchgate.net/publication/263765853_EMG_Feature_Extraction_for_Tolerance_of_White_Gaussian_Noise)\n",
    "\n",
    "**Tarefa 1**: Descrever as características de acordo com o artigo citado e outros disponíveis relacionados. O que está querendo \"ser visto\" em cada característica? Qual é o significado matemático de cada uma delas?"
   ]
  },
  {
   "cell_type": "markdown",
   "metadata": {},
   "source": [
    "#### Aplicando as características\n",
    "\n",
    "É necessário implementar as características, geralmente em formato de funções ou métodos, para que seja possível aplicar tais funções aos dados de entrada e obter as características resultantes. A seguir temos a implementação das características `VAR` & `RMS` (domínio do tempo) e `FDM` & `MMDF` (domínio da frequência)."
   ]
  },
  {
   "cell_type": "markdown",
   "metadata": {},
   "source": [
    "**Tarefa 2**: Implemente todas as características apresentadas neste tutorial em formato de funções. Sinta-se livre também para buscar e implementar características além das apresentadas, citando as fontes de tais características."
   ]
  },
  {
   "cell_type": "code",
   "execution_count": 74,
   "metadata": {},
   "outputs": [],
   "source": [
    "from math import prod\n",
    "import numpy as np\n",
    "\n",
    "# funções auxiliares\n",
    "def PSD(w):\n",
    "    ''' definição da função PSD para o sinal no domínio da frequência '''\n",
    "    return np.abs(w) ** 2\n",
    "\n",
    "def f_j(w):\n",
    "    return (np.arange(1, w.shape[-1]+1) * 200)/ (2 * w.shape[-1])\n",
    "\n",
    "# funções de extração de características\n",
    "\n",
    "# Dominio do tempo\n",
    "def wamp(x, threshold = 0):\n",
    "    return np.sum(np.abs(np.diff(x)) > threshold, axis=-1)\n",
    "\n",
    "def var(x):\n",
    "    return np.sum(x ** 2, axis=-1) / (np.prod(x.shape) - 1)\n",
    "\n",
    "def rms(x):\n",
    "    return np.sqrt(np.sum(np.abs(x) ** 2, axis=-1) / (np.prod(x.shape) - 1))\n",
    "\n",
    "def wl(x):\n",
    "    return np.abs(np.diff(x, axis=-1)).sum(axis=-1)\n",
    "\n",
    "def zc(x):\n",
    "    return np.sum(np.diff(np.sign(x), axis=-1) != 0, axis=-1)\n",
    "\n",
    "# Dominio da frequencia\n",
    "def fmd(w):\n",
    "    return np.sum(PSD(w), axis=-1) / 2\n",
    "\n",
    "def fmn(w):\n",
    "    return np.sum(f_j(w) * PSD(w)) / fmd(w)*2\n",
    "\n",
    "def mmdf(w):\n",
    "    return np.sum(np.abs(w), axis=-1) / 2\n",
    "\n",
    "def mmnf(w):\n",
    "    return np.sum(f_j(w) * np.abs(w), axis=-1) / mmdf(w)*2\n"
   ]
  },
  {
   "cell_type": "markdown",
   "metadata": {},
   "source": [
    "#### Vetor de características\n",
    "\n",
    "Ao final da implementação e seleção das características, deve ser escolhida as características e então teremos um vetor com todas elas implementadas.\n",
    "\n",
    "O vetor de características estará organizado da seguinte forma (exemplo p/ VAR, RMS, RDM e MMDF):\n",
    "\n",
    "| ID sample | VAR1 | RMS1 | FMD1 | MMDF1 | VAR2 | RMS2 | FMD2 | MMDF2 | Classe |\n",
    "|:---------:|:----:|:----:|:----:|:-----:|------|------|------|-------|:------:|\n",
    "|     1     |  v1  |  v1  |  v1  |   v1  | v1   | v1   | v1   | v1    |    0   |\n",
    "|     2     |  v2  |  v2  |  v2  |   v2  | v2   | v2   | v2   | v2    |    0   |\n",
    "|    ...    |  ... |  ... |  ... |  ...  | ...  | ...  | ...  | ...   |   ...  |\n",
    "|     N     |  vN  |  vN  |  vN  |   vN  | vN   | vN   | vN   | vN    |    7   |\n",
    "\n",
    "#### Implementação do vetor"
   ]
  },
  {
   "cell_type": "code",
   "execution_count": 75,
   "metadata": {},
   "outputs": [
    {
     "name": "stdout",
     "output_type": "stream",
     "text": [
      "Shape dos vetores orginais: (2, 28, 2, 20, 64) (2, 28, 2, 20, 33)\n",
      "(9, 2, 28, 2, 20) (caracts, participantes, ensaios, eletrodos, janelas)\n"
     ]
    }
   ],
   "source": [
    "# carregando dados do \"prepare.ipynb\"\n",
    "\n",
    "x = np.load(\"dataset/segmented_data_t.npy\")\n",
    "w = np.load(\"dataset/segmented_data_f.npy\")\n",
    "\n",
    "print(\"Shape dos vetores orginais:\", x.shape, w.shape)\n",
    "\n",
    "# aplicando características\n",
    "features = np.array([\n",
    "  wamp(x),\n",
    "  var(x),\n",
    "  rms(x),\n",
    "  wl(x),\n",
    "  zc(x),\n",
    "  \n",
    "  fmd(w),\n",
    "  fmn(w),\n",
    "  mmdf(w),\n",
    "  mmnf(w)\n",
    "])\n",
    "\n",
    "print(features.shape, \"(caracts, participantes, ensaios, eletrodos, janelas)\")"
   ]
  },
  {
   "cell_type": "code",
   "execution_count": 76,
   "metadata": {},
   "outputs": [
    {
     "name": "stdout",
     "output_type": "stream",
     "text": [
      "(2, 560, 18) (participantes, instancias, caracteristicas)\n"
     ]
    }
   ],
   "source": [
    "features = features.transpose(1, 0, 3, 2, 4)\n",
    "features = features.reshape(features.shape[0], features.shape[1] * features.shape[2], features.shape[3] * features.shape[4])\n",
    "features = features.swapaxes(1, 2)\n",
    "\n",
    "print(features.shape, \"(participantes, instancias, caracteristicas)\")"
   ]
  },
  {
   "cell_type": "markdown",
   "metadata": {},
   "source": [
    "Criação do vetor de *labels*"
   ]
  },
  {
   "cell_type": "code",
   "execution_count": 77,
   "metadata": {},
   "outputs": [
    {
     "data": {
      "text/plain": [
       "560"
      ]
     },
     "execution_count": 77,
     "metadata": {},
     "output_type": "execute_result"
    }
   ],
   "source": [
    "labels_str = ['dir', 'esq', 'cima', 'baixo', 'cima', 'baixo',\n",
    "'baixo', 'esq', 'dir', 'baixo', 'dir', 'dir', 'esq', 'cima',\n",
    "'baixo', 'cima', 'esq', 'dir', 'cima', 'esq', 'baixo', 'esq',\n",
    "'dir', 'esq', 'cima', 'dir', 'cima', 'baixo']\n",
    "\n",
    "# transformando para numérico\n",
    "lab_dict = {'dir': 0, 'esq': 1, 'cima': 2, 'baixo': 3}\n",
    "labels_num = [lab_dict[item] for item in labels_str]\n",
    "\n",
    "# print(labels_num)\n",
    "\n",
    "# criação do vetor de labels final\n",
    "y = np.repeat(labels_num, int(features.shape[1] / len(labels_num)), axis = None)\n",
    "\n",
    "# print(y)\n",
    "len(y)"
   ]
  },
  {
   "cell_type": "markdown",
   "metadata": {},
   "source": [
    "*Tarefa 3*: Realização da normalização dos dados utilizando ferramentas já conhecidas"
   ]
  },
  {
   "cell_type": "code",
   "execution_count": 78,
   "metadata": {},
   "outputs": [],
   "source": [
    "# aplicando normalização\n",
    "from sklearn.preprocessing import StandardScaler\n",
    "\n",
    "ss = StandardScaler()\n",
    "\n",
    "for i in range(len(features)):\n",
    "  features[i] = ss.fit_transform(features[i])"
   ]
  },
  {
   "cell_type": "markdown",
   "metadata": {},
   "source": [
    "*Tarefa 4*: Realização da seleção de características, utilizando ferramentas já conhecidas"
   ]
  },
  {
   "cell_type": "code",
   "execution_count": 79,
   "metadata": {},
   "outputs": [],
   "source": [
    "import warnings\n",
    "from sklearn import svm\n",
    "from sklearn.ensemble import RandomForestClassifier\n",
    "from sklearn.feature_selection import SelectKBest, f_classif, SelectFromModel, RFE\n",
    "\n",
    "warnings.filterwarnings('ignore')\n",
    "\n",
    "data = {}\n",
    "\n",
    "for i in range(len(features)):\n",
    "    \n",
    "    kb = SelectKBest(f_classif, k = 10).fit_transform(features[i], y)\n",
    "    data[f'KBestFeatParticipante{i}'] = kb\n",
    "    # print(kb.shape)\n",
    "\n",
    "    rfe = RFE(svm.SVC(kernel=\"linear\"), n_features_to_select = 10).fit_transform(features[i], y)\n",
    "    data[f'RFEFeatParticipante{i}'] = rfe\n",
    "    # print(rfe.shape)\n",
    "\n",
    "    model = SelectFromModel(RandomForestClassifier(n_estimators = 100, random_state = 42)).fit_transform(features[i], y)\n",
    "    data[f'ModelFeatParticipante{i}'] = model\n",
    "    # print(model.shape)"
   ]
  },
  {
   "cell_type": "markdown",
   "metadata": {},
   "source": [
    "*Tarefa 5*: Realização da classificação utilizando `SVM`."
   ]
  },
  {
   "cell_type": "code",
   "execution_count": 80,
   "metadata": {},
   "outputs": [
    {
     "name": "stdout",
     "output_type": "stream",
     "text": [
      "----- Classificando com KBestFeatParticipante0 -----\n",
      "Acurácia com KBestFeatParticipante0: 0.4642857142857143\n",
      "\n",
      "----- Classificando com RFEFeatParticipante0 -----\n",
      "Acurácia com RFEFeatParticipante0: 0.44642857142857145\n",
      "\n",
      "----- Classificando com ModelFeatParticipante0 -----\n",
      "Acurácia com ModelFeatParticipante0: 0.5089285714285714\n",
      "\n",
      "----- Classificando com KBestFeatParticipante1 -----\n",
      "Acurácia com KBestFeatParticipante1: 0.29464285714285715\n",
      "\n",
      "----- Classificando com RFEFeatParticipante1 -----\n",
      "Acurácia com RFEFeatParticipante1: 0.3392857142857143\n",
      "\n",
      "----- Classificando com ModelFeatParticipante1 -----\n",
      "Acurácia com ModelFeatParticipante1: 0.24107142857142858\n",
      "\n"
     ]
    }
   ],
   "source": [
    "from sklearn.model_selection import GridSearchCV, train_test_split\n",
    "from sklearn import metrics\n",
    "from sklearn.svm import SVC\n",
    "\n",
    "# aplicando a classificação\n",
    "for key, X in data.items():\n",
    "    print(f'----- Classificando com {key} -----')\n",
    "\n",
    "    x_train, x_test, y_train, y_test = train_test_split(X, y, test_size=0.2, random_state=1)\n",
    "\n",
    "    param_grid = [\n",
    "        {'C': [0.1, 1, 10, 100, 1000], 'kernel': ['linear']},\n",
    "        {'C': [0.1, 1, 10, 100, 1000], 'gamma': [1, 0.1, 0.01, 0.001, 0.0001], 'kernel': ['rbf']},\n",
    "        {'C': [0.1, 1, 10, 100, 1000], 'gamma': [1, 0.1, 0.01, 0.001, 0.0001], 'kernel': ['poly']}\n",
    "    ]\n",
    "\n",
    "    grid = GridSearchCV(SVC(), param_grid, cv=5, n_jobs = -1)\n",
    "    grid.fit(x_train, y_train)\n",
    "\n",
    "    y_pred = grid.predict(x_test)\n",
    "    print(f'Acurácia com {key}: {metrics.accuracy_score(y_test, y_pred)}\\n')"
   ]
  }
 ],
 "metadata": {
  "kernelspec": {
   "display_name": "venv",
   "language": "python",
   "name": "python3"
  },
  "language_info": {
   "codemirror_mode": {
    "name": "ipython",
    "version": 3
   },
   "file_extension": ".py",
   "mimetype": "text/x-python",
   "name": "python",
   "nbconvert_exporter": "python",
   "pygments_lexer": "ipython3",
   "version": "3.11.6"
  }
 },
 "nbformat": 4,
 "nbformat_minor": 2
}
